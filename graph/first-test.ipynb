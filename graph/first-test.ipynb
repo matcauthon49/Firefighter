{
 "cells": [
  {
   "cell_type": "code",
   "execution_count": 9,
   "id": "99a248c8-1d77-4d08-be69-931240a7abcf",
   "metadata": {},
   "outputs": [
    {
     "name": "stderr",
     "output_type": "stream",
     "text": [
      "C:\\Users\\naman\\AppData\\Local\\Temp\\ipykernel_20040\\3160445161.py:21: DeprecationWarning: Sampling from a set deprecated\n",
      "since Python 3.9 and will be removed in a subsequent version.\n",
      "  selected_vertex = random.sample(unprotected_vertices, 1)[0]\n"
     ]
    },
    {
     "data": {
      "text/plain": [
       "(array([4642.,    0.,    0., 3315.,    0., 2043.]),\n",
       " array([2.        , 2.33333333, 2.66666667, 3.        , 3.33333333,\n",
       "        3.66666667, 4.        ]),\n",
       " <BarContainer object of 6 artists>)"
      ]
     },
     "execution_count": 9,
     "metadata": {},
     "output_type": "execute_result"
    },
    {
     "data": {
      "image/png": "[encoded data removed]",
      "text/plain": [
       "<Figure size 432x288 with 1 Axes>"
      ]
     },
     "metadata": {
      "needs_background": "light"
     },
     "output_type": "display_data"
    }
   ],
   "source": [
    "import random\n",
    "from matplotlib import pyplot\n",
    "\n",
    "game_graph = {\n",
    "    1:[2, 3],\n",
    "    2:[1, 4, 6],\n",
    "    3:[1],\n",
    "    4:[2, 5, 6],\n",
    "    5:[4],\n",
    "    6:[2, 4]\n",
    "}\n",
    "\n",
    "def sim_rand():\n",
    "\n",
    "    protected_vertices = set()\n",
    "    unprotected_vertices = {2, 3, 4, 5, 6}\n",
    "    burning_vertices = {1}\n",
    "\n",
    "    while (unprotected_vertices != set()):\n",
    "\n",
    "        selected_vertex = random.sample(unprotected_vertices, 1)[0]\n",
    "        unprotected_vertices.remove(selected_vertex)\n",
    "        protected_vertices.add(selected_vertex)\n",
    "\n",
    "        for i in burning_vertices.copy():\n",
    "            for j in game_graph[i]:\n",
    "                if j in unprotected_vertices:\n",
    "\n",
    "                    burning_vertices.add(j)\n",
    "                    unprotected_vertices.remove(j)\n",
    "\n",
    "    return len(protected_vertices)\n",
    "\n",
    "sims = [sim_rand() for i in range(10000)]\n",
    "\n",
    "pyplot.hist(sims, bins = 6)"
   ]
  },
  {
   "cell_type": "code",
   "execution_count": null,
   "id": "37578530-282e-4629-9c5a-de56b5d0ee4a",
   "metadata": {},
   "outputs": [],
   "source": []
  }
 ],
 "metadata": {
  "kernelspec": {
   "display_name": "Python 3 (ipykernel)",
   "language": "python",
   "name": "python3"
  },
  "language_info": {
   "codemirror_mode": {
    "name": "ipython",
    "version": 3
   },
   "file_extension": ".py",
   "mimetype": "text/x-python",
   "name": "python",
   "nbconvert_exporter": "python",
   "pygments_lexer": "ipython3",
   "version": "3.10.2"
  }
 },
 "nbformat": 4,
 "nbformat_minor": 5
}
